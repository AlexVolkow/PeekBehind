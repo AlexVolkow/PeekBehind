{
 "cells": [
  {
   "cell_type": "markdown",
   "metadata": {
    "collapsed": true,
    "pycharm": {
     "name": "#%% md\n"
    }
   },
   "source": [
    "Converting an RTDS dataset for instance segmentation"
   ]
  },
  {
   "cell_type": "code",
   "execution_count": null,
   "outputs": [],
   "source": [
    "import json\n",
    "import os\n",
    "from os import listdir\n",
    "from os.path import isfile, join\n",
    "from shutil import copyfile\n",
    "\n",
    "import pandas as pd"
   ],
   "metadata": {
    "collapsed": false,
    "pycharm": {
     "name": "#%% \n"
    }
   }
  },
  {
   "cell_type": "code",
   "execution_count": null,
   "outputs": [],
   "source": [
    "ROAD_SIGN = \"road sign\"\n",
    "\n",
    "# The minimum size of the image with the sign\n",
    "IMAGE_SIZE_PX = 30\n",
    "\n",
    "# Number of character images for each of the superclasses\n",
    "IMAGES_PER_CLASS = {\n",
    "    \"1\": 10,\n",
    "    \"2\": 50,\n",
    "    \"3\": 15,\n",
    "    \"4\": 20,\n",
    "    \"5\": 75,\n",
    "    \"7\": 10,\n",
    "    \"8\": 15,\n",
    "}\n",
    "\n",
    "# Full path to the dataset\n",
    "RUSSIAN_ROAD_SIGN_DT = \"rtds/full-frames\"\n",
    "IMAGE_DIR = os.path.join(RUSSIAN_ROAD_SIGN_DT, \"rtsd-frames\")\n",
    "\n",
    "# Path to the converted dataset\n",
    "DT_DIR = \"dt\""
   ],
   "metadata": {
    "collapsed": false,
    "pycharm": {
     "name": "#%% \n"
    }
   }
  },
  {
   "cell_type": "code",
   "execution_count": null,
   "outputs": [],
   "source": [
    "def drop_extension(filename):\n",
    "    dot = filename.index(\".\")\n",
    "    return filename[:dot]\n",
    "\n",
    "\n",
    "def load_sign_classes():\n",
    "    sign_icons_path = os.path.join(RUSSIAN_ROAD_SIGN_DT, \"sign-icons\")\n",
    "\n",
    "    sign_classes = {}\n",
    "    for superclass in listdir(sign_icons_path):\n",
    "        superclass_folder = os.path.join(sign_icons_path, superclass)\n",
    "        file_names = [drop_extension(f) for f in listdir(superclass_folder) if isfile(join(superclass_folder, f))]\n",
    "        sign_classes[superclass] = file_names\n",
    "    return sign_classes\n",
    "\n",
    "sign_classes = load_sign_classes()"
   ],
   "metadata": {
    "collapsed": false,
    "pycharm": {
     "name": "#%% \n"
    }
   }
  },
  {
   "cell_type": "code",
   "execution_count": null,
   "outputs": [],
   "source": [
    "def get_superclass(class_id):\n",
    "    for superclass, classes in sign_classes.items():\n",
    "        if class_id in classes:\n",
    "            return superclass\n",
    "    return None\n",
    "\n",
    "# Returns the shape of a sign by its class\n",
    "# Possible shape: ellipse, rectangle, inv_triangle, triangle, rhomb\n",
    "def shape_from_class_id(class_id):\n",
    "    superclass = get_superclass(class_id)\n",
    "    if superclass is None:\n",
    "        if class_id[0] == \"3\" or class_id[0] == \"4\":\n",
    "            return \"ellipse\"\n",
    "        else:\n",
    "            return \"rectangle\"\n",
    "\n",
    "    if superclass == \"1\":\n",
    "        if class_id == \"2_4\":\n",
    "            return \"inv_triangle\"\n",
    "        else:\n",
    "            return \"triangle\"\n",
    "    if superclass == \"2\":\n",
    "        return \"rhomb\"\n",
    "    if superclass == \"3\":\n",
    "        return \"ellipse\"\n",
    "    if superclass == \"4\":\n",
    "        if class_id == \"4_8_1\" or class_id == \"4_8_2\" or class_id == \"4_8_3\":\n",
    "            return \"rectangle\"\n",
    "        else:\n",
    "            return \"ellipse\"\n",
    "    return \"rectangle\""
   ],
   "metadata": {
    "collapsed": false,
    "pycharm": {
     "name": "#%% \n"
    }
   }
  },
  {
   "cell_type": "code",
   "execution_count": null,
   "outputs": [],
   "source": [
    "def create_shape_attributes(sign):\n",
    "    type = sign[\"sign_type\"]\n",
    "    x_from = sign[\"x_from\"]\n",
    "    y_from = sign[\"y_from\"]\n",
    "    width = sign[\"width\"]\n",
    "    height = sign[\"height\"]\n",
    "\n",
    "    if type is None:\n",
    "        print(sign)\n",
    "    if type == \"ellipse\":\n",
    "        name = \"ellipse\"\n",
    "    else:\n",
    "        name = \"polygon\"\n",
    "    shape_attributes = {\"name\": name}\n",
    "\n",
    "    if type == 'ellipse':\n",
    "        shape_attributes[\"cx\"] = x_from + width / 2\n",
    "        shape_attributes[\"cy\"] = y_from + height / 2\n",
    "        shape_attributes[\"rx\"] = width / 2\n",
    "        shape_attributes[\"ry\"] = shape_attributes[\"rx\"]\n",
    "    elif type == 'rectangle':\n",
    "        shape_attributes[\"all_points_x\"] = [x_from, x_from + width, x_from + width, x_from, x_from]\n",
    "        shape_attributes[\"all_points_y\"] = [y_from, y_from, y_from + height, y_from + height, y_from]\n",
    "    elif type == 'rhomb':\n",
    "        shape_attributes[\"all_points_x\"] = [x_from, x_from + width / 2, x_from + width, x_from + width / 2, x_from]\n",
    "        shape_attributes[\"all_points_y\"] = [y_from + height / 2, y_from, y_from + height / 2, y_from + height,\n",
    "                                            y_from + height / 2]\n",
    "    elif type == \"triangle\":\n",
    "        shape_attributes[\"all_points_x\"] = [x_from, x_from + width / 2, x_from + width, x_from]\n",
    "        shape_attributes[\"all_points_y\"] = [y_from + height, y_from, y_from + height, y_from + height]\n",
    "    elif type == \"inv_triangle\":\n",
    "        shape_attributes[\"all_points_x\"] = [x_from, x_from + width, x_from + width / 2, x_from]\n",
    "        shape_attributes[\"all_points_y\"] = [y_from, y_from, y_from + height, y_from]\n",
    "    else:\n",
    "        raise Exception(\"Unknown type \" + str(type))\n",
    "    return shape_attributes\n",
    "\n",
    "\n",
    "def make_region_data(shape_attributes):\n",
    "    regions = {}\n",
    "    for i in range(len(shape_attributes)):\n",
    "        region_data = {\n",
    "            \"shape_attributes\": shape_attributes[i],\n",
    "            \"region_attributes\": {\n",
    "                \"name\": ROAD_SIGN\n",
    "            }\n",
    "        }\n",
    "        regions[i] = region_data\n",
    "    return regions"
   ],
   "metadata": {
    "collapsed": false,
    "pycharm": {
     "name": "#%% \n"
    }
   }
  },
  {
   "cell_type": "code",
   "execution_count": null,
   "outputs": [],
   "source": [
    "file_classes = {}\n",
    "\n",
    "def any_interesting_signs(signs):\n",
    "    for _, dt in signs.iterrows():\n",
    "        file_class = dt['sign_class']\n",
    "        \n",
    "        width = dt['width']\n",
    "        height = dt['height']\n",
    "        \n",
    "        class_idxs = file_class.split('_')\n",
    "        class_id = class_idxs[0] + class_idxs[1]\n",
    "        \n",
    "\n",
    "        if not (class_id in file_classes):\n",
    "            file_classes[class_id] = 0\n",
    "\n",
    "        superclass = get_superclass(file_class)\n",
    "        if superclass is None:\n",
    "            superclass = class_idxs[0]\n",
    "        if superclass == \"6\":\n",
    "            superclass = \"5\"\n",
    "        if width > IMAGE_SIZE_PX and height > IMAGE_SIZE_PX and file_classes[class_id] < IMAGES_PER_CLASS[superclass]:\n",
    "            return True\n",
    "    return False"
   ],
   "metadata": {
    "collapsed": false,
    "pycharm": {
     "name": "#%% \n"
    }
   }
  },
  {
   "cell_type": "code",
   "execution_count": null,
   "outputs": [],
   "source": [
    "\n",
    "file_dt = pd.read_csv('full-gt.csv')\n",
    "\n",
    "signs = {}\n",
    "count = 0\n",
    "for idx, sign_dt in file_dt.iterrows():\n",
    "    filename = sign_dt['filename']\n",
    "    if filename in signs:\n",
    "        continue\n",
    "\n",
    "    file_signs = file_dt[(file_dt[\"filename\"] == filename)]\n",
    "\n",
    "    if not (any_interesting_signs(file_signs)):\n",
    "        continue\n",
    "\n",
    "    for i, dt in file_signs.iterrows():\n",
    "        file_class = dt['sign_class']\n",
    "        words = file_class.split('_')\n",
    "        class_id = words[0] + words[1]\n",
    "\n",
    "        sign_type = shape_from_class_id(file_class)\n",
    "\n",
    "        if not (class_id in file_classes):\n",
    "            file_classes[class_id] = 0\n",
    "\n",
    "        file_classes[class_id] += 1\n",
    "\n",
    "        x_from = dt['x_from']\n",
    "        y_from = dt['y_from']\n",
    "        width = dt['width']\n",
    "        height = dt['height']\n",
    "\n",
    "        sign = {\"sign_type\": sign_type,\n",
    "                    \"x_from\": x_from,\n",
    "                    \"y_from\": y_from,\n",
    "                    \"width\": width,\n",
    "                    \"height\": height\n",
    "                }\n",
    "        if not (filename in signs):\n",
    "                signs[filename] = []\n",
    "        signs[filename].append(sign)\n",
    "\n",
    "        count += 1\n",
    "        print(\"Class: \" + str(file_class) + \", Filename: \" + filename)\n",
    "\n",
    "print(\"Total count \" + str(count))\n",
    "\n",
    "file_index = 1\n",
    "\n",
    "via_region_data = {}\n",
    "\n",
    "for filename, sign in signs.items():\n",
    "    file_index += 1\n",
    "\n",
    "    file_path = os.path.join(IMAGE_DIR, filename)\n",
    "\n",
    "    annotation = {\n",
    "            \"filename\": str(file_index) + \".jpg\",\n",
    "            \"fileref\": \"\",\n",
    "            \"size\": os.path.getsize(file_path),\n",
    "            \"base64_img_data\": \"\",\n",
    "            \"file_attributes\": {},\n",
    "            \"regions\": make_region_data(list(map(create_shape_attributes, sign)))\n",
    "    }\n",
    "\n",
    "    copyfile(file_path, os.path.join(DT_DIR, annotation[\"filename\"]))\n",
    "\n",
    "    annotation_name = annotation[\"filename\"] + str(annotation[\"size\"])\n",
    "\n",
    "    via_region_data[annotation_name] = annotation\n",
    "\n",
    "with open(\"via_region_data.json\", \"w\") as write_file:\n",
    "    json.dump(via_region_data, write_file)"
   ],
   "metadata": {
    "collapsed": false,
    "pycharm": {
     "name": "#%% \n"
    }
   }
  }
 ],
 "metadata": {
  "kernelspec": {
   "display_name": "Python 3",
   "language": "python",
   "name": "python3"
  },
  "language_info": {
   "codemirror_mode": {
    "name": "ipython",
    "version": 2
   },
   "file_extension": ".py",
   "mimetype": "text/x-python",
   "name": "python",
   "nbconvert_exporter": "python",
   "pygments_lexer": "ipython2",
   "version": "2.7.6"
  },
  "pycharm": {
   "stem_cell": {
    "cell_type": "raw",
    "source": [],
    "metadata": {
     "collapsed": false
    }
   }
  }
 },
 "nbformat": 4,
 "nbformat_minor": 0
}